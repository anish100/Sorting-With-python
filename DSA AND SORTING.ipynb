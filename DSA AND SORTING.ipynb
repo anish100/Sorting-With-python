{
 "cells": [
  {
   "cell_type": "code",
   "execution_count": 1,
   "metadata": {},
   "outputs": [],
   "source": [
    "# selection sorting\n",
    "# selection sort is a simple algorithm and it is in place compariosion based algorithm\n",
    "# note if dublicate elements in list the used line 5 write (i) min_val ke pass i v likenge"
   ]
  },
  {
   "cell_type": "code",
   "execution_count": 20,
   "metadata": {},
   "outputs": [
    {
     "name": "stdout",
     "output_type": "stream",
     "text": [
      "[5, 15, 3, 12, 17, 0]\n",
      "[0, 3, 5, 12, 15, 17]\n"
     ]
    }
   ],
   "source": [
    "my_list=[5,15,3,12,17,0]\n",
    "print(my_list)\n",
    "for i in range(len(my_list)):\n",
    "    min_val = min(my_list[i:])\n",
    "    min_index = my_list.index(min_val)\n",
    "    my_list[i],my_list[min_index] = my_list[min_index],my_list[i]\n",
    "print(my_list)    "
   ]
  },
  {
   "cell_type": "code",
   "execution_count": 21,
   "metadata": {},
   "outputs": [
    {
     "data": {
      "text/plain": [
       "17"
      ]
     },
     "execution_count": 21,
     "metadata": {},
     "output_type": "execute_result"
    }
   ],
   "source": [
    "min_val"
   ]
  },
  {
   "cell_type": "code",
   "execution_count": 22,
   "metadata": {},
   "outputs": [
    {
     "data": {
      "text/plain": [
       "5"
      ]
     },
     "execution_count": 22,
     "metadata": {},
     "output_type": "execute_result"
    }
   ],
   "source": [
    "min_index"
   ]
  },
  {
   "cell_type": "code",
   "execution_count": 23,
   "metadata": {},
   "outputs": [
    {
     "data": {
      "text/plain": [
       "[0, 3, 5, 12, 15, 17]"
      ]
     },
     "execution_count": 23,
     "metadata": {},
     "output_type": "execute_result"
    }
   ],
   "source": [
    "my_list"
   ]
  },
  {
   "cell_type": "code",
   "execution_count": 59,
   "metadata": {},
   "outputs": [
    {
     "name": "stdout",
     "output_type": "stream",
     "text": [
      "[5, 15, 3, 12, 17, 0]\n",
      "[5, 15, 0, 12, 17, 3]\n"
     ]
    }
   ],
   "source": [
    "l1 = [5,15,3,12,17,0]\n",
    "print(l1)\n",
    "\n",
    "min_val = min(l1)\n",
    "min_index = l1.index(min_val)\n",
    "l1[2],l1[min_index] = l1[min_index],l1[2]\n",
    "print(l1)"
   ]
  },
  {
   "cell_type": "code",
   "execution_count": 60,
   "metadata": {},
   "outputs": [],
   "source": [
    "## Buble sorting \n",
    "# Bubble sorting is also called sinking sorting and int his sorting n number of elements in the list\n",
    "# by comparing the each pair of adjacent items and swaps them if they are wrong order\n",
    "# check each iteration condition in the bubble sorting"
   ]
  },
  {
   "cell_type": "code",
   "execution_count": 76,
   "metadata": {},
   "outputs": [
    {
     "name": "stdout",
     "output_type": "stream",
     "text": [
      "[10, 15, 4, 23, 0]\n",
      "[15, 10, 23, 4, 0]\n"
     ]
    }
   ],
   "source": [
    "# check first iteration\n",
    "my_list = [10,15,4,23,0]\n",
    "print(my_list)\n",
    "for i in range(len(my_list)-1):\n",
    "    if my_list[i] > my_list[i+1]:\n",
    "        my_list[i],my_list[i+1] = my_list[i+1],my_list[i]\n",
    "        \n",
    "print(my_list)        "
   ]
  },
  {
   "cell_type": "code",
   "execution_count": 77,
   "metadata": {},
   "outputs": [],
   "source": [
    "# so simalarly iteration is continue until the ascending order is not arranged one by one "
   ]
  },
  {
   "cell_type": "code",
   "execution_count": 79,
   "metadata": {},
   "outputs": [
    {
     "name": "stdout",
     "output_type": "stream",
     "text": [
      "[10, 15, 4, 23, 0]\n",
      "[0, 4, 10, 15, 23]\n"
     ]
    }
   ],
   "source": [
    "my_list = [10,15,4,23,0]\n",
    "print(my_list)\n",
    "for j in range(len(my_list)-1):\n",
    "    for i in range(len(my_list)-1):\n",
    "        if my_list[i] > my_list[i+1]:\n",
    "            my_list[i],my_list[i+1] = my_list[i+1],my_list[i]\n",
    "            \n",
    "print(my_list)            ## bubble sorting in asceding order"
   ]
  },
  {
   "cell_type": "code",
   "execution_count": 80,
   "metadata": {},
   "outputs": [],
   "source": [
    "# bubble sorting in desceding order"
   ]
  },
  {
   "cell_type": "code",
   "execution_count": 83,
   "metadata": {},
   "outputs": [
    {
     "name": "stdout",
     "output_type": "stream",
     "text": [
      "[10, 15, 4, 23, 0]\n",
      "[23, 15, 10, 4, 0]\n"
     ]
    }
   ],
   "source": [
    "my_list = [10,15,4,23,0]\n",
    "print(my_list)\n",
    "for j in range(len(my_list)-1):\n",
    "    for i in range(len(my_list)-1):\n",
    "        if my_list[i] < my_list[i+1]:\n",
    "            my_list[i],my_list[i+1] = my_list[i+1],my_list[i]\n",
    "            \n",
    "print(my_list)            \n",
    "        "
   ]
  },
  {
   "cell_type": "code",
   "execution_count": 84,
   "metadata": {},
   "outputs": [],
   "source": [
    "# inserion sorting\n"
   ]
  },
  {
   "cell_type": "code",
   "execution_count": 3,
   "metadata": {},
   "outputs": [
    {
     "name": "stdout",
     "output_type": "stream",
     "text": [
      "[16, 19, 11, 15, 10, 12, 14]\n",
      "[10, 11, 12, 14, 15, 16, 19]\n"
     ]
    }
   ],
   "source": [
    "list1 = [16,19,11,15,10,12,14]\n",
    "print(list1)\n",
    "for index in range(1,len(list1)):\n",
    "    current_ele = list1[index]\n",
    "    pos = index\n",
    "    while current_ele < list1[pos-1] and pos > 0:\n",
    "        list1[pos] = list1[pos-1]\n",
    "        pos = pos-1\n",
    "    list1[pos] = current_ele\n",
    "print(list1)    "
   ]
  },
  {
   "cell_type": "code",
   "execution_count": 6,
   "metadata": {},
   "outputs": [
    {
     "name": "stdout",
     "output_type": "stream",
     "text": [
      "[2, 4, 6, 1, 8, 9]\n",
      "[9, 8, 6, 4, 2, 1]\n"
     ]
    }
   ],
   "source": [
    "l1 = [2,4,6,1,8,9]\n",
    "print(l1)\n",
    "for index in range(1,len(l1)):\n",
    "    current_ele = l1[index]\n",
    "    pos = index\n",
    "    while current_ele > l1[pos-1] and pos>0:\n",
    "        l1[pos] = l1[pos-1]\n",
    "        pos = pos-1\n",
    "    l1[pos] = current_ele\n",
    "print(l1)    "
   ]
  },
  {
   "cell_type": "code",
   "execution_count": 7,
   "metadata": {},
   "outputs": [],
   "source": [
    "#stack"
   ]
  },
  {
   "cell_type": "code",
   "execution_count": 111,
   "metadata": {},
   "outputs": [
    {
     "name": "stdout",
     "output_type": "stream",
     "text": [
      "3\n"
     ]
    },
    {
     "data": {
      "text/plain": [
       "[2, 3]"
      ]
     },
     "execution_count": 111,
     "metadata": {},
     "output_type": "execute_result"
    }
   ],
   "source": [
    "class stack():\n",
    "    def __init__(self):\n",
    "        self.stk=[]\n",
    "    \n",
    "    def push(self,x):\n",
    "        self.stk.append(x)    \n",
    "    \n",
    "    def pop(self):\n",
    "        return self.stk.pop()\n",
    "    \n",
    "    def peep(self):\n",
    "        n = len(self.stk)\n",
    "        return self.stk[n-1]\n",
    "    \n",
    "    def display(self):\n",
    "        return self.stk \n",
    "st = stack()    \n",
    "st.push(2)\n",
    "st.push(3)\n",
    "st.push(90)\n",
    "st.pop()\n",
    "st.peep()\n",
    "print(st.peep())\n",
    "st.display()\n",
    "\n",
    "    "
   ]
  },
  {
   "cell_type": "code",
   "execution_count": 118,
   "metadata": {},
   "outputs": [
    {
     "name": "stdout",
     "output_type": "stream",
     "text": [
      "0 10\n",
      "1 9\n",
      "2 8\n",
      "3 7\n",
      "4 6\n",
      "5\n"
     ]
    }
   ],
   "source": [
    "i=0\n",
    "j=10\n",
    "while i<=10 and j>=1:\n",
    "    print(i,j)\n",
    "    j = j-1\n",
    "    i=i+1\n",
    "    if(i==j):\n",
    "        break\n",
    "print(i)\n",
    "    "
   ]
  },
  {
   "cell_type": "code",
   "execution_count": 129,
   "metadata": {},
   "outputs": [
    {
     "data": {
      "text/plain": [
       "5"
      ]
     },
     "execution_count": 129,
     "metadata": {},
     "output_type": "execute_result"
    }
   ],
   "source": [
    "def cal(x,y):\n",
    "    while(x!=y):\n",
    "        if(x>y):\n",
    "            return cal(x-y,y)\n",
    "        else:\n",
    "            return cal(x,y-x)\n",
    "    return x    \n",
    "cal(45,20)"
   ]
  },
  {
   "cell_type": "code",
   "execution_count": 17,
   "metadata": {},
   "outputs": [
    {
     "name": "stdout",
     "output_type": "stream",
     "text": [
      "[3, 2, 1, 5, 78, 32]\n"
     ]
    }
   ],
   "source": [
    "# selection sorting using function method\n",
    "def sel_sort(my_list):\n",
    "    min_val = min(my_list)\n",
    "    min_index = my_list.index(min_val)\n",
    "    my_list[0],my_list[min_index] = my_list[min_index],my_list[0]\n",
    "        \n",
    "\n",
    "my_list = [2,3,1,5,78,32]        \n",
    "sel_sort(my_list)\n",
    "print(my_list)"
   ]
  },
  {
   "cell_type": "code",
   "execution_count": 30,
   "metadata": {},
   "outputs": [
    {
     "name": "stdout",
     "output_type": "stream",
     "text": [
      "[0, 4, 10, 15, 23]\n"
     ]
    }
   ],
   "source": [
    "# Bubble sorting using function mthod\n",
    "def bub_sort(l1):\n",
    "    for j in range(len(l1)-1):\n",
    "        for i in range(len(l1)-1):\n",
    "            if l1[i] > l1[i+1]:\n",
    "                l1[i],l1[i+1] = l1[i+1],l1[i]\n",
    "            \n",
    "l1 = [10,15,4,23,0]\n",
    "bub_sort(l1)\n",
    "print(l1)"
   ]
  },
  {
   "cell_type": "code",
   "execution_count": 31,
   "metadata": {},
   "outputs": [],
   "source": [
    "t = [2,3,1,5,78,32,121,12]"
   ]
  },
  {
   "cell_type": "code",
   "execution_count": 46,
   "metadata": {},
   "outputs": [
    {
     "name": "stdout",
     "output_type": "stream",
     "text": [
      "[1, 2, 3, 4, 5]\n"
     ]
    }
   ],
   "source": [
    "def insertion_sort(list1):\n",
    "    for index in range(1,len(list1)):\n",
    "        current_ele = list1[index]\n",
    "        pos = index\n",
    "        while current_ele < list1[pos-1] and pos > 0:\n",
    "            list1[pos]  = list1[pos-1]\n",
    "            pos = pos-1\n",
    "        list1[pos] = current_ele\n",
    "        \n",
    "list1 = [2,4,3,5,1]\n",
    "insertion_sort(list1)\n",
    "print(list1)"
   ]
  },
  {
   "cell_type": "code",
   "execution_count": null,
   "metadata": {},
   "outputs": [],
   "source": []
  }
 ],
 "metadata": {
  "kernelspec": {
   "display_name": "Python 3",
   "language": "python",
   "name": "python3"
  },
  "language_info": {
   "codemirror_mode": {
    "name": "ipython",
    "version": 3
   },
   "file_extension": ".py",
   "mimetype": "text/x-python",
   "name": "python",
   "nbconvert_exporter": "python",
   "pygments_lexer": "ipython3",
   "version": "3.7.3"
  }
 },
 "nbformat": 4,
 "nbformat_minor": 2
}
